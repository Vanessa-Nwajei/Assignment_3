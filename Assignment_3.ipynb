{
 "cells": [
  {
   "cell_type": "markdown",
   "metadata": {},
   "source": [
    "LGIS"
   ]
  },
  {
   "cell_type": "code",
   "execution_count": 74,
   "metadata": {},
   "outputs": [
    {
     "name": "stdout",
     "output_type": "stream",
     "text": [
      "  1 2 3\n",
      "5 4 2  \n"
     ]
    }
   ],
   "source": [
    "def longest_increasing_subsequence(p, s, increasing=True):\n",
    "    if len(s) != 0:\n",
    "        N = [[] for j in range(len(s))]\n",
    "        N[0].append(s[0])\n",
    "\n",
    "        for i in range(1, (len(s))):\n",
    "            ls = 1\n",
    "            for previous in range(i):\n",
    "                if (increasing and s[i] > s[previous] and ls < len(N[previous]) + 1) or (not increasing and s[i] < s[previous] and ls < len(N[previous]) + 1) :\n",
    "\n",
    "                    N[i] = N[previous][:]\n",
    "                    ls = len(N[previous]) + 1\n",
    "\n",
    "            N[i].append(s[i])\n",
    "        max_ls = N[0]\n",
    "        for z in N:\n",
    "            if len(z) > len(max_ls):\n",
    "                max_ls = z\n",
    "\n",
    "        return max_ls\n",
    "\n",
    "with open('lgis.txt', 'r') as file:\n",
    "    line = file.readlines()\n",
    "    n = line[0].strip()\n",
    "    permutation = line[1].strip()\n",
    "file.close()\n",
    "\n",
    "print(*longest_increasing_subsequence(n,permutation))\n",
    "print(*longest_increasing_subsequence(n, permutation,increasing=False))"
   ]
  },
  {
   "cell_type": "markdown",
   "metadata": {},
   "source": [
    "SSEQ"
   ]
  },
  {
   "cell_type": "code",
   "execution_count": 15,
   "metadata": {},
   "outputs": [
    {
     "name": "stdout",
     "output_type": "stream",
     "text": [
      "[3, 4, 5]\n"
     ]
    }
   ],
   "source": [
    "from Bio import SeqIO\n",
    "\n",
    "def find_spliced_motif(s,t):\n",
    "    positions = []\n",
    "    s_index = 0\n",
    "    t_index = 0\n",
    "    while s_index < len(s) and t_index < len(t):\n",
    "        if s[s_index] == t[t_index]:\n",
    "            positions.append(s_index +1)\n",
    "            t_index += 1\n",
    "        s_index += 1\n",
    "    return positions\n",
    "\n",
    "sequence = list(SeqIO.parse('sseq.fasta.txt', \"fasta\"))\n",
    "s = str(sequence[0].seq)\n",
    "t = str(sequence[1].seq)\n",
    "\n",
    "print(find_spliced_motif(s,t))\n",
    "\n",
    "\n"
   ]
  },
  {
   "cell_type": "markdown",
   "metadata": {},
   "source": [
    "LCSQ"
   ]
  },
  {
   "cell_type": "code",
   "execution_count": 16,
   "metadata": {},
   "outputs": [
    {
     "name": "stdout",
     "output_type": "stream",
     "text": [
      "ACCTGG\n"
     ]
    }
   ],
   "source": [
    "from Bio import SeqIO\n",
    "\n",
    "def find_shared_spliced_motif(s,t) -> int:\n",
    "    position = [[0] *(len(t)+1) for i in range(len(s)+1)]\n",
    "\n",
    "    for i in range(1, len(s) + 1):\n",
    "        for j in range(1, len(t) + 1):\n",
    "            if s[i - 1] == t[j - 1]:\n",
    "                position[i][j] = 1 + position[i - 1][j - 1]\n",
    "            else:\n",
    "                position[i][j] = max(position[i - 1][j], position[i][j - 1])\n",
    "\n",
    "    fssm = \"\"\n",
    "    i = len(s)\n",
    "    j = len(t)\n",
    "    while i > 0 and j > 0:\n",
    "        if s[i - 1] == t[j - 1]:\n",
    "            fssm = s[i - 1] + fssm\n",
    "            i -= 1\n",
    "            j -= 1\n",
    "        else:\n",
    "            if position[i - 1][j] > position[i][j - 1]:\n",
    "                i -= 1\n",
    "            else:\n",
    "                j -= 1\n",
    "\n",
    "    return fssm\n",
    "\n",
    "sequence = list(SeqIO.parse('lcsq.fasta.txt', \"fasta\"))\n",
    "s = str(sequence[0].seq)\n",
    "t = str(sequence[1].seq)\n",
    "\n",
    "print(find_shared_spliced_motif(s,t))"
   ]
  },
  {
   "cell_type": "markdown",
   "metadata": {},
   "source": [
    "EDIT"
   ]
  },
  {
   "cell_type": "code",
   "execution_count": 76,
   "metadata": {},
   "outputs": [
    {
     "name": "stdout",
     "output_type": "stream",
     "text": [
      "5\n"
     ]
    }
   ],
   "source": [
    "from Bio import SeqIO\n",
    "\n",
    "def edit_distance(s, t):\n",
    "    cache = [[float(\"inf\")] * (len(t) + 1) for i in range (len(s) +1)]\n",
    "\n",
    "    for j in range(len(t) + 1):\n",
    "        cache[len(s)][j] = len(t) -j\n",
    "    for i in range(len(s) + 1):\n",
    "        cache[i][len(t)] = len(s) - i\n",
    "\n",
    "    for i in range(len(s) - 1, -1, -1):\n",
    "        for j in range(len(t) - 1, -1, -1):\n",
    "            if s[i] == t[j]:\n",
    "                cache[i][j] = cache[i+1][j+1]\n",
    "            else:\n",
    "                cache[i][j] = 1 + min(cache[i+1][j], cache[i][j+1], cache[i+1][j+1])\n",
    "    return cache[0][0]\n",
    "\n",
    "sequence = list(SeqIO.parse('edit.fasta.txt', \"fasta\"))\n",
    "s = str(sequence[0].seq)\n",
    "t = str(sequence[1].seq)\n",
    "print(edit_distance(s,t))"
   ]
  },
  {
   "cell_type": "markdown",
   "metadata": {},
   "source": [
    "EDTA"
   ]
  },
  {
   "cell_type": "code",
   "execution_count": 75,
   "metadata": {},
   "outputs": [
    {
     "name": "stdout",
     "output_type": "stream",
     "text": [
      "4\n",
      "PRETTY---\n",
      "|| ||    \n",
      "PR-TT-EIN\n",
      "  Score=4\n",
      "\n"
     ]
    }
   ],
   "source": [
    "from Bio import SeqIO\n",
    "from Bio import pairwise2\n",
    "\n",
    "def edit_distance_alignment(s, t):\n",
    "    alignments = pairwise2.align.globalxx(s,t)\n",
    "    return (pairwise2.format_alignment(*alignments[0]))\n",
    "\n",
    "sequence = list(SeqIO.parse('edta.fasta.txt', \"fasta\"))\n",
    "s1 = str(sequence[0].seq)\n",
    "s2 = str(sequence[1].seq)\n",
    "\n",
    "print(edit_distance(s1,s2))\n",
    "print(edit_distance_alignment(s1,s2))\n"
   ]
  }
 ],
 "metadata": {
  "kernelspec": {
   "display_name": "Python 3",
   "language": "python",
   "name": "python3"
  },
  "language_info": {
   "codemirror_mode": {
    "name": "ipython",
    "version": 3
   },
   "file_extension": ".py",
   "mimetype": "text/x-python",
   "name": "python",
   "nbconvert_exporter": "python",
   "pygments_lexer": "ipython3",
   "version": "3.11.9"
  }
 },
 "nbformat": 4,
 "nbformat_minor": 2
}
